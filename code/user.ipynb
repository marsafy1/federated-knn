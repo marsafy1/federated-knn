{
 "cells": [
  {
   "cell_type": "code",
   "execution_count": 2,
   "metadata": {},
   "outputs": [],
   "source": [
    "import threading\n",
    "import time\n",
    "import redis"
   ]
  },
  {
   "cell_type": "code",
   "execution_count": 3,
   "metadata": {},
   "outputs": [],
   "source": [
    "subscriber = redis.Redis(\n",
    "  host='redis-10323.c274.us-east-1-3.ec2.redns.redis-cloud.com',\n",
    "  port=10323,\n",
    "  password='hN34pvKTT8nrhOe3S9annZ6R6yNzY5Ia')"
   ]
  },
  {
   "cell_type": "code",
   "execution_count": 4,
   "metadata": {},
   "outputs": [],
   "source": [
    "# Subscribe to the channel\n",
    "pubsub = subscriber.pubsub()\n",
    "pubsub.subscribe('messages')"
   ]
  },
  {
   "cell_type": "code",
   "execution_count": 5,
   "metadata": {},
   "outputs": [],
   "source": [
    "def classify(message):\n",
    "    subscriber.publish('messages', f'input#user#{message}')"
   ]
  },
  {
   "cell_type": "code",
   "execution_count": 9,
   "metadata": {},
   "outputs": [],
   "source": [
    "def terminate():\n",
    "    subscriber.publish('messages', f'TERMINATE#user#EMPTY')"
   ]
  },
  {
   "cell_type": "code",
   "execution_count": 15,
   "metadata": {},
   "outputs": [],
   "source": [
    "classify(\"Hi. how are you ?\")"
   ]
  },
  {
   "cell_type": "code",
   "execution_count": 8,
   "metadata": {},
   "outputs": [],
   "source": [
    "classify(\"YOU WON $500000! YOU WON $500000! YOU WON $500000! \")"
   ]
  },
  {
   "cell_type": "code",
   "execution_count": 11,
   "metadata": {},
   "outputs": [
    {
     "name": "stdout",
     "output_type": "stream",
     "text": [
      "looping\n",
      "looping\n",
      "looping\n",
      "looping\n",
      "looping\n",
      "classification for the input was 0\n",
      "looping\n",
      "classification for the input was 0\n",
      "looping\n",
      "looping\n",
      "looping\n",
      "looping\n",
      "looping\n",
      "classification for the input was 0\n",
      "looping\n"
     ]
    }
   ],
   "source": [
    "user_can_input = True\n",
    "for message in pubsub.listen():\n",
    "    print(\"looping\")\n",
    "    if(user_can_input):\n",
    "        user_input = input(\"Enter a string to classify: \")\n",
    "        if(len(user_input) > 0):\n",
    "            user_can_input = False\n",
    "            if(user_input == \"e\"):\n",
    "                terminate()\n",
    "                break\n",
    "            else:\n",
    "                classify(user_input)\n",
    "\n",
    "    message_type = message['type']\n",
    "    if message['type'] == 'message':\n",
    "        message = message['data'].decode()\n",
    "\n",
    "        message_type = message.split(\"#\")[0]\n",
    "        sender = message.split(\"#\")[1]\n",
    "        message_content = message.split(\"#\")[2]\n",
    "\n",
    "        if(message_type == \"user_response\"):\n",
    "            print(f\"classification for the input was {message_content}\")\n",
    "            time.sleep(3)\n",
    "            user_can_input = True"
   ]
  },
  {
   "cell_type": "code",
   "execution_count": 6,
   "metadata": {},
   "outputs": [
    {
     "name": "stdout",
     "output_type": "stream",
     "text": [
      "Classification for the input was 0\n",
      "Classification for the input was 0\n"
     ]
    },
    {
     "ename": "KeyboardInterrupt",
     "evalue": "",
     "output_type": "error",
     "traceback": [
      "\u001b[0;31m---------------------------------------------------------------------------\u001b[0m",
      "\u001b[0;31mKeyboardInterrupt\u001b[0m                         Traceback (most recent call last)",
      "Cell \u001b[0;32mIn[6], line 22\u001b[0m\n\u001b[1;32m     19\u001b[0m             \u001b[38;5;28mprint\u001b[39m(\u001b[38;5;124mf\u001b[39m\u001b[38;5;124m\"\u001b[39m\u001b[38;5;124mClassification for the input was \u001b[39m\u001b[38;5;132;01m{\u001b[39;00mmessage_content\u001b[38;5;132;01m}\u001b[39;00m\u001b[38;5;124m\"\u001b[39m)\n\u001b[1;32m     20\u001b[0m             user_can_input \u001b[38;5;241m=\u001b[39m \u001b[38;5;28;01mTrue\u001b[39;00m  \u001b[38;5;66;03m# Re-enable user input after receiving a response\u001b[39;00m\n\u001b[0;32m---> 22\u001b[0m \u001b[43mtime\u001b[49m\u001b[38;5;241;43m.\u001b[39;49m\u001b[43msleep\u001b[49m\u001b[43m(\u001b[49m\u001b[38;5;241;43m1\u001b[39;49m\u001b[43m)\u001b[49m  \u001b[38;5;66;03m# Sleep to reduce CPU usage\u001b[39;00m\n",
      "\u001b[0;31mKeyboardInterrupt\u001b[0m: "
     ]
    }
   ],
   "source": [
    "# user_can_input = True\n",
    "# while True:\n",
    "#     if user_can_input:\n",
    "#         try:\n",
    "#             # Set timeout for user input\n",
    "#             user_input = input(\"Enter a string to classify: \")\n",
    "#             classify(user_input)\n",
    "#             user_can_input = False  # Disable input until a response is received\n",
    "#         except EOFError:\n",
    "#             break  # Exit if no more input (Ctrl+D)\n",
    "\n",
    "#     message = pubsub.get_message()\n",
    "#     if message and message['type'] == 'message':\n",
    "#         data = message['data'].decode()\n",
    "#         parts = data.split(\"#\")\n",
    "#         if len(parts) == 3:\n",
    "#             message_type, sender, message_content = parts\n",
    "#             if message_type == \"user_response\":\n",
    "#                 print(f\"Classification for the input was {message_content}\")\n",
    "#                 user_can_input = True  # Re-enable user input after receiving a response\n",
    "\n",
    "#     time.sleep(1)  # Sleep to reduce CPU usage"
   ]
  },
  {
   "cell_type": "code",
   "execution_count": 32,
   "metadata": {},
   "outputs": [],
   "source": [
    "# def handle_messages(pubsub):\n",
    "#     for message in pubsub.listen():\n",
    "#         if message['type'] == 'message':\n",
    "#             data = message['data'].decode()\n",
    "#             parts = data.split(\"#\")\n",
    "#             if len(parts) == 3:\n",
    "#                 message_type, sender, message_content = parts\n",
    "#                 if message_type == \"user_response\":\n",
    "#                     print(f\"Classification for the input was {message_content}\")\n",
    "#                     global user_can_input\n",
    "#                     user_can_input = True"
   ]
  },
  {
   "cell_type": "code",
   "execution_count": 33,
   "metadata": {},
   "outputs": [],
   "source": [
    "# def user_input_thread():\n",
    "#     global user_can_input\n",
    "#     while True:\n",
    "#         if user_can_input:\n",
    "#             user_input = input(\"Enter a string to classify: \")\n",
    "#             user_can_input = False\n",
    "#             classify(user_input)"
   ]
  },
  {
   "cell_type": "code",
   "execution_count": 34,
   "metadata": {},
   "outputs": [],
   "source": [
    "# def main():\n",
    "#     global client\n",
    "#     client = subscriber\n",
    "#     pubsub = client.pubsub()\n",
    "#     pubsub.subscribe('response_channel')\n",
    "\n",
    "#     # Starting threads for message handling and user input\n",
    "#     message_thread = threading.Thread(target=handle_messages, args=(pubsub,))\n",
    "#     message_thread.start()\n",
    "\n",
    "#     input_thread = threading.Thread(target=user_input_thread)\n",
    "#     input_thread.start()\n",
    "\n",
    "#     message_thread.join()\n",
    "#     input_thread.join()"
   ]
  },
  {
   "cell_type": "code",
   "execution_count": 35,
   "metadata": {},
   "outputs": [],
   "source": [
    "# if __name__ == '__main__':\n",
    "#     main()"
   ]
  }
 ],
 "metadata": {
  "kernelspec": {
   "display_name": "env",
   "language": "python",
   "name": "python3"
  },
  "language_info": {
   "codemirror_mode": {
    "name": "ipython",
    "version": 3
   },
   "file_extension": ".py",
   "mimetype": "text/x-python",
   "name": "python",
   "nbconvert_exporter": "python",
   "pygments_lexer": "ipython3",
   "version": "3.9.6"
  }
 },
 "nbformat": 4,
 "nbformat_minor": 2
}
