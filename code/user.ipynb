{
 "cells": [
  {
   "cell_type": "code",
   "execution_count": 2,
   "metadata": {},
   "outputs": [],
   "source": [
    "import time\n",
    "import redis"
   ]
  },
  {
   "cell_type": "code",
   "execution_count": 3,
   "metadata": {},
   "outputs": [],
   "source": [
    "subscriber = redis.Redis(\n",
    "  host='redis-10323.c274.us-east-1-3.ec2.redns.redis-cloud.com',\n",
    "  port=10323,\n",
    "  password='hN34pvKTT8nrhOe3S9annZ6R6yNzY5Ia')"
   ]
  },
  {
   "cell_type": "code",
   "execution_count": 4,
   "metadata": {},
   "outputs": [],
   "source": [
    "# Subscribe to the channel\n",
    "pubsub = subscriber.pubsub()\n",
    "pubsub.subscribe('messages')"
   ]
  },
  {
   "cell_type": "code",
   "execution_count": 5,
   "metadata": {},
   "outputs": [],
   "source": [
    "def classify(message):\n",
    "    subscriber.publish('messages', f'input#user#{message}')"
   ]
  },
  {
   "cell_type": "code",
   "execution_count": 9,
   "metadata": {},
   "outputs": [],
   "source": [
    "def terminate():\n",
    "    subscriber.publish('messages', f'TERMINATE#user#EMPTY')"
   ]
  },
  {
   "cell_type": "code",
   "execution_count": 15,
   "metadata": {},
   "outputs": [],
   "source": [
    "classify(\"Hi. how are you ?\")"
   ]
  },
  {
   "cell_type": "code",
   "execution_count": 8,
   "metadata": {},
   "outputs": [],
   "source": [
    "classify(\"YOU WON $500000! YOU WON $500000! YOU WON $500000! \")"
   ]
  },
  {
   "cell_type": "code",
   "execution_count": 11,
   "metadata": {},
   "outputs": [
    {
     "name": "stdout",
     "output_type": "stream",
     "text": [
      "looping\n",
      "looping\n",
      "looping\n",
      "looping\n",
      "looping\n",
      "classification for the input was 0\n",
      "looping\n",
      "classification for the input was 0\n",
      "looping\n",
      "looping\n",
      "looping\n",
      "looping\n",
      "looping\n",
      "classification for the input was 0\n",
      "looping\n"
     ]
    }
   ],
   "source": [
    "user_can_input = True\n",
    "for message in pubsub.listen():\n",
    "    print(\"looping\")\n",
    "    if(user_can_input):\n",
    "        user_input = input(\"Enter a string to classify: \")\n",
    "        if(len(user_input) > 0):\n",
    "            user_can_input = False\n",
    "            if(user_input == \"e\"):\n",
    "                terminate()\n",
    "                break\n",
    "            else:\n",
    "                classify(user_input)\n",
    "\n",
    "    message_type = message['type']\n",
    "    if message['type'] == 'message':\n",
    "        message = message['data'].decode()\n",
    "\n",
    "        message_type = message.split(\"#\")[0]\n",
    "        sender = message.split(\"#\")[1]\n",
    "        message_content = message.split(\"#\")[2]\n",
    "\n",
    "        if(message_type == \"user_response\"):\n",
    "            print(f\"classification for the input was {message_content}\")\n",
    "            time.sleep(3)\n",
    "            user_can_input = True"
   ]
  }
 ],
 "metadata": {
  "kernelspec": {
   "display_name": "env",
   "language": "python",
   "name": "python3"
  },
  "language_info": {
   "codemirror_mode": {
    "name": "ipython",
    "version": 3
   },
   "file_extension": ".py",
   "mimetype": "text/x-python",
   "name": "python",
   "nbconvert_exporter": "python",
   "pygments_lexer": "ipython3",
   "version": "3.9.6"
  }
 },
 "nbformat": 4,
 "nbformat_minor": 2
}
