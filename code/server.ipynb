{
 "cells": [
  {
   "cell_type": "code",
   "execution_count": 1,
   "metadata": {},
   "outputs": [],
   "source": [
    "import redis"
   ]
  },
  {
   "cell_type": "code",
   "execution_count": 2,
   "metadata": {},
   "outputs": [],
   "source": [
    "subscriber = redis.Redis(\n",
    "  host='redis-10323.c274.us-east-1-3.ec2.redns.redis-cloud.com',\n",
    "  port=10323,\n",
    "  password='hN34pvKTT8nrhOe3S9annZ6R6yNzY5Ia')"
   ]
  },
  {
   "cell_type": "code",
   "execution_count": 3,
   "metadata": {},
   "outputs": [],
   "source": [
    "# Subscribe to the channel\n",
    "pubsub = subscriber.pubsub()\n",
    "pubsub.subscribe('messages')"
   ]
  },
  {
   "cell_type": "code",
   "execution_count": null,
   "metadata": {},
   "outputs": [],
   "source": [
    "# Listen for messages (this will block and wait for messages)\n",
    "for message in pubsub.listen():\n",
    "    if message['type'] == 'message':\n",
    "        print('Received:', message['data'].decode())"
   ]
  }
 ],
 "metadata": {
  "kernelspec": {
   "display_name": "env",
   "language": "python",
   "name": "python3"
  },
  "language_info": {
   "codemirror_mode": {
    "name": "ipython",
    "version": 3
   },
   "file_extension": ".py",
   "mimetype": "text/x-python",
   "name": "python",
   "nbconvert_exporter": "python",
   "pygments_lexer": "ipython3",
   "version": "3.9.6"
  }
 },
 "nbformat": 4,
 "nbformat_minor": 2
}
