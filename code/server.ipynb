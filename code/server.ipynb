{
 "cells": [
  {
   "cell_type": "code",
   "execution_count": 1,
   "metadata": {},
   "outputs": [],
   "source": [
    "import redis\n",
    "from collections import Counter"
   ]
  },
  {
   "cell_type": "code",
   "execution_count": 2,
   "metadata": {},
   "outputs": [],
   "source": [
    "CLIENTS_NUM = 2"
   ]
  },
  {
   "cell_type": "code",
   "execution_count": 3,
   "metadata": {},
   "outputs": [
    {
     "name": "stdout",
     "output_type": "stream",
     "text": [
      "{'client_0': False, 'client_1': False}\n"
     ]
    }
   ],
   "source": [
    "default_responses_ack = {}\n",
    "responses_ack = {}\n",
    "client_responses = {}\n",
    "for i in range(0, CLIENTS_NUM):\n",
    "    default_responses_ack[f\"client_{i}\"] = False\n",
    "    responses_ack[f\"client_{i}\"] = False\n",
    "    client_responses[f\"client_{i}\"] = ''\n",
    "print(responses_ack)"
   ]
  },
  {
   "cell_type": "code",
   "execution_count": 4,
   "metadata": {},
   "outputs": [],
   "source": [
    "subscriber = redis.Redis(\n",
    "  host='redis-10323.c274.us-east-1-3.ec2.redns.redis-cloud.com',\n",
    "  port=10323,\n",
    "  password='hN34pvKTT8nrhOe3S9annZ6R6yNzY5Ia')"
   ]
  },
  {
   "cell_type": "code",
   "execution_count": 5,
   "metadata": {},
   "outputs": [],
   "source": [
    "# Subscribe to the channel\n",
    "pubsub = subscriber.pubsub()\n",
    "pubsub.subscribe('messages')"
   ]
  },
  {
   "cell_type": "code",
   "execution_count": 6,
   "metadata": {},
   "outputs": [],
   "source": [
    "def all_ack():\n",
    "    state = True\n",
    "    for sender in responses_ack:\n",
    "        if(not responses_ack[sender]):\n",
    "            return False\n",
    "    return True\n",
    "\n",
    "def reset_acks():\n",
    "    responses_ack = default_responses_ack"
   ]
  },
  {
   "cell_type": "code",
   "execution_count": 7,
   "metadata": {},
   "outputs": [],
   "source": [
    "def handle_aggregation():\n",
    "    print(\"Handling aggss\")\n",
    "    print(client_responses)\n",
    "    responses = []\n",
    "    for client in client_responses:\n",
    "        responses.append(client_responses[client])\n",
    "\n",
    "    count = Counter(responses)\n",
    "    most_common_num, most_common_count = count.most_common(1)[0]\n",
    "\n",
    "\n",
    "    classification_result = most_common_num\n",
    "    subscriber.publish('messages', f'user_response#server#{classification_result}')\n",
    "    return classification_result"
   ]
  },
  {
   "cell_type": "code",
   "execution_count": 8,
   "metadata": {},
   "outputs": [
    {
     "name": "stdout",
     "output_type": "stream",
     "text": [
      "input@user: Hi. how are you ?\n",
      "input@user: YOU WON $500000! YOU WON $500000! YOU WON $500000! \n",
      "client_task@server: Hi. how are you ?\n",
      "client_task@server: YOU WON $500000! YOU WON $500000! YOU WON $500000! \n",
      "classification@client_0: 0\n",
      "classification@client_1: 0\n",
      "All Received -> Start aggregation\n",
      "Handling aggss\n",
      "{'client_0': '0', 'client_1': '0'}\n",
      "classification@client_0: 0\n",
      "All Received -> Start aggregation\n",
      "Handling aggss\n",
      "{'client_0': '0', 'client_1': '0'}\n",
      "user_response@server: 0\n",
      "classification@client_1: 0\n",
      "All Received -> Start aggregation\n",
      "Handling aggss\n",
      "{'client_0': '0', 'client_1': '0'}\n",
      "user_response@server: 0\n",
      "user_response@server: 0\n"
     ]
    }
   ],
   "source": [
    "can_accept_inputs = True\n",
    "# Listen for messages (this will block and wait for messages)\n",
    "for message in pubsub.listen():\n",
    "    message_type = message['type']\n",
    "    if message['type'] == 'message':\n",
    "        message = message['data'].decode()\n",
    "\n",
    "        message_type = message.split(\"#\")[0]\n",
    "        sender = message.split(\"#\")[1]\n",
    "        message_content = message.split(\"#\")[2]\n",
    "\n",
    "        print(f'{message_type}@{sender}:', message_content)\n",
    "\n",
    "        if(message_type == \"input\" and can_accept_inputs):\n",
    "            subscriber.publish('messages', f'client_task#server#{message_content}')\n",
    "\n",
    "        if(message_type == \"classification\"):\n",
    "            if sender in responses_ack.keys():\n",
    "                responses_ack[sender] = True\n",
    "                client_responses[sender] = message_content\n",
    "            \n",
    "            if all_ack():\n",
    "                print('All Received -> Start aggregation')\n",
    "                reset_acks()\n",
    "                handle_aggregation()\n",
    "        \n",
    "        if(message_type == \"TERMINATE\"):\n",
    "            break\n",
    "                \n",
    "                \n"
   ]
  }
 ],
 "metadata": {
  "kernelspec": {
   "display_name": "env",
   "language": "python",
   "name": "python3"
  },
  "language_info": {
   "codemirror_mode": {
    "name": "ipython",
    "version": 3
   },
   "file_extension": ".py",
   "mimetype": "text/x-python",
   "name": "python",
   "nbconvert_exporter": "python",
   "pygments_lexer": "ipython3",
   "version": "3.9.13"
  }
 },
 "nbformat": 4,
 "nbformat_minor": 2
}
